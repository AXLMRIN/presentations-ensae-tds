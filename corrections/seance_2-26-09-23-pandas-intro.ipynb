{
 "cells": [
  {
   "cell_type": "code",
   "execution_count": 81,
   "metadata": {},
   "outputs": [],
   "source": [
    "import numpy as np\n",
    "import pandas as pd\n",
    "import matplotlib.pyplot as plt"
   ]
  },
  {
   "cell_type": "markdown",
   "metadata": {},
   "source": [
    "# Introduction à Pandas"
   ]
  },
  {
   "cell_type": "markdown",
   "metadata": {},
   "source": [
    "la question des `astype` : \n",
    "cette fonction change le type d'objets dans une `pd.Series`."
   ]
  },
  {
   "cell_type": "code",
   "execution_count": 82,
   "metadata": {},
   "outputs": [
    {
     "name": "stdout",
     "output_type": "stream",
     "text": [
      "les éléments de s sont de type <class 'numpy.int64'>\n",
      "les éléments de s sont de type <class 'str'>\n"
     ]
    }
   ],
   "source": [
    "s = pd.Series([4,5,6], dtype=int)\n",
    "print(f\"les éléments de s sont de type {type(s[0])}\")\n",
    "# On change le type à string : \n",
    "s = s.astype(str)\n",
    "print(f\"les éléments de s sont de type {type(s[0])}\")"
   ]
  },
  {
   "cell_type": "markdown",
   "metadata": {},
   "source": [
    "## Exercice préliminaire: importer un CSV"
   ]
  },
  {
   "cell_type": "code",
   "execution_count": 83,
   "metadata": {},
   "outputs": [],
   "source": [
    "import requests\n",
    "\n",
    "url = \"https://www.insee.fr/fr/statistiques/fichier/6800675/v_commune_2023.csv\"\n",
    "url_backup = \"https://minio.lab.sspcloud.fr/lgaliana/data/python-ENSAE/cog_2023.csv\"\n",
    "\n",
    "try:\n",
    "    response = requests.get(url)\n",
    "except requests.exceptions.RequestException as e:\n",
    "    print(f\"Error : {e}\")\n",
    "    response = requests.get(url_backup)\n",
    "\n",
    "# Only download if one of the request succeeded\n",
    "if response.status_code == 200:\n",
    "    with open(\"cog_2023.csv\", \"wb\") as file:\n",
    "        file.write(response.content)"
   ]
  },
  {
   "cell_type": "markdown",
   "metadata": {},
   "source": [
    "charger un fichier dans le même dossier :\n",
    "\n",
    "```txt\n",
    "folder\n",
    "- cog_2023.csv\n",
    "- notebook.ipynb\n",
    "```"
   ]
  },
  {
   "cell_type": "code",
   "execution_count": 84,
   "metadata": {},
   "outputs": [],
   "source": [
    "df = pd.read_csv(\"cog_2023.csv\")"
   ]
  },
  {
   "cell_type": "markdown",
   "metadata": {},
   "source": [
    "Charger un fichier dans un sous-dossier\n",
    "\n",
    "```txt\n",
    "folder\n",
    "- data\n",
    "    - cog_2023.csv\n",
    "- notebook.ipynb\n",
    "```\n",
    "\n",
    "```python\n",
    "df = pd.read_csv(\"./data/cog_2023.csv)\n",
    "```\n",
    "\n",
    "Charger un fichier qui est dans un dossier parent\n",
    "\n",
    "```txt\n",
    "folder\n",
    "- codes\n",
    "    - notebook.ipynb\n",
    "- cog_2023.csv\n",
    "```\n",
    "\n",
    "```python\n",
    "df = pd.read_csv(\"../cog_2023.csv\")\n",
    "```\n",
    "\n",
    "\n",
    "Charger un fichier qui est dans un dossier voisin\n",
    "\n",
    "```txt\n",
    "folder\n",
    "- data\n",
    "    - cog_2023.csv\n",
    "- codes\n",
    "    - notebook.ipynb\n",
    "```\n",
    "\n",
    "```python\n",
    "df = pd.read_csv(\"../data/cog_2023.csv\")\n",
    "```"
   ]
  },
  {
   "cell_type": "markdown",
   "metadata": {},
   "source": [
    "## Exercice 1"
   ]
  },
  {
   "cell_type": "markdown",
   "metadata": {},
   "source": [
    "1.  Importer les données de l’Ademe à l’aide du package `Pandas` et de la commande consacrée pour l’import de csv. Nommer le `DataFrame` obtenu `emissions`[1]."
   ]
  },
  {
   "cell_type": "code",
   "execution_count": 85,
   "metadata": {},
   "outputs": [],
   "source": [
    "df = pd.read_csv(\"cog_2023.csv\")"
   ]
  },
  {
   "cell_type": "markdown",
   "metadata": {},
   "source": [
    "2.  Utiliser les méthodes adéquates afin d’afficher pour les 10 premières valeurs, les 15 dernières et un échantillon aléatoire de 10 valeurs grâce aux méthodes adéquates du *package* `Pandas`."
   ]
  },
  {
   "cell_type": "code",
   "execution_count": 86,
   "metadata": {},
   "outputs": [
    {
     "name": "stdout",
     "output_type": "stream",
     "text": [
      "10\n",
      "15\n",
      "10\n"
     ]
    }
   ],
   "source": [
    "df_10_first = df.head(10)\n",
    "print(len(df_10_first))\n",
    "df_15_last = df.tail(15)\n",
    "print(len(df_15_last))\n",
    "df_10_random = df.sample(n = 10)\n",
    "print(len(df_10_random))"
   ]
  },
  {
   "cell_type": "markdown",
   "metadata": {},
   "source": [
    "3.  Tirer 5 pourcents de l’échantillon sans remise."
   ]
  },
  {
   "cell_type": "code",
   "execution_count": 87,
   "metadata": {},
   "outputs": [
    {
     "name": "stdout",
     "output_type": "stream",
     "text": [
      "1878 (len(df) = 37563)\n"
     ]
    }
   ],
   "source": [
    "df_5_percent = df.sample(frac = 0.05)\n",
    "print(f\"{len(df_5_percent)} (len(df) = {len(df)})\")"
   ]
  },
  {
   "cell_type": "markdown",
   "metadata": {},
   "source": [
    "4.  Ne conserver que les 10 premières lignes et tirer aléatoirement dans celles-ci pour obtenir un DataFrame de 100 données."
   ]
  },
  {
   "cell_type": "code",
   "execution_count": 88,
   "metadata": {},
   "outputs": [
    {
     "data": {
      "text/html": [
       "<div>\n",
       "<style scoped>\n",
       "    .dataframe tbody tr th:only-of-type {\n",
       "        vertical-align: middle;\n",
       "    }\n",
       "\n",
       "    .dataframe tbody tr th {\n",
       "        vertical-align: top;\n",
       "    }\n",
       "\n",
       "    .dataframe thead th {\n",
       "        text-align: right;\n",
       "    }\n",
       "</style>\n",
       "<table border=\"1\" class=\"dataframe\">\n",
       "  <thead>\n",
       "    <tr style=\"text-align: right;\">\n",
       "      <th></th>\n",
       "      <th>TYPECOM</th>\n",
       "      <th>COM</th>\n",
       "      <th>REG</th>\n",
       "      <th>DEP</th>\n",
       "      <th>CTCD</th>\n",
       "      <th>ARR</th>\n",
       "      <th>TNCC</th>\n",
       "      <th>NCC</th>\n",
       "      <th>NCCENR</th>\n",
       "      <th>LIBELLE</th>\n",
       "      <th>CAN</th>\n",
       "      <th>COMPARENT</th>\n",
       "    </tr>\n",
       "  </thead>\n",
       "  <tbody>\n",
       "    <tr>\n",
       "      <th>0</th>\n",
       "      <td>COM</td>\n",
       "      <td>01001</td>\n",
       "      <td>84.0</td>\n",
       "      <td>01</td>\n",
       "      <td>01D</td>\n",
       "      <td>012</td>\n",
       "      <td>5</td>\n",
       "      <td>ABERGEMENT CLEMENCIAT</td>\n",
       "      <td>Abergement-Clémenciat</td>\n",
       "      <td>L'Abergement-Clémenciat</td>\n",
       "      <td>0108</td>\n",
       "      <td>NaN</td>\n",
       "    </tr>\n",
       "    <tr>\n",
       "      <th>9</th>\n",
       "      <td>COM</td>\n",
       "      <td>01011</td>\n",
       "      <td>84.0</td>\n",
       "      <td>01</td>\n",
       "      <td>01D</td>\n",
       "      <td>014</td>\n",
       "      <td>1</td>\n",
       "      <td>APREMONT</td>\n",
       "      <td>Apremont</td>\n",
       "      <td>Apremont</td>\n",
       "      <td>0114</td>\n",
       "      <td>NaN</td>\n",
       "    </tr>\n",
       "    <tr>\n",
       "      <th>2</th>\n",
       "      <td>COM</td>\n",
       "      <td>01004</td>\n",
       "      <td>84.0</td>\n",
       "      <td>01</td>\n",
       "      <td>01D</td>\n",
       "      <td>011</td>\n",
       "      <td>1</td>\n",
       "      <td>AMBERIEU EN BUGEY</td>\n",
       "      <td>Ambérieu-en-Bugey</td>\n",
       "      <td>Ambérieu-en-Bugey</td>\n",
       "      <td>0101</td>\n",
       "      <td>NaN</td>\n",
       "    </tr>\n",
       "    <tr>\n",
       "      <th>6</th>\n",
       "      <td>COM</td>\n",
       "      <td>01008</td>\n",
       "      <td>84.0</td>\n",
       "      <td>01</td>\n",
       "      <td>01D</td>\n",
       "      <td>011</td>\n",
       "      <td>1</td>\n",
       "      <td>AMBUTRIX</td>\n",
       "      <td>Ambutrix</td>\n",
       "      <td>Ambutrix</td>\n",
       "      <td>0101</td>\n",
       "      <td>NaN</td>\n",
       "    </tr>\n",
       "    <tr>\n",
       "      <th>3</th>\n",
       "      <td>COM</td>\n",
       "      <td>01005</td>\n",
       "      <td>84.0</td>\n",
       "      <td>01</td>\n",
       "      <td>01D</td>\n",
       "      <td>012</td>\n",
       "      <td>1</td>\n",
       "      <td>AMBERIEUX EN DOMBES</td>\n",
       "      <td>Ambérieux-en-Dombes</td>\n",
       "      <td>Ambérieux-en-Dombes</td>\n",
       "      <td>0122</td>\n",
       "      <td>NaN</td>\n",
       "    </tr>\n",
       "    <tr>\n",
       "      <th>...</th>\n",
       "      <td>...</td>\n",
       "      <td>...</td>\n",
       "      <td>...</td>\n",
       "      <td>...</td>\n",
       "      <td>...</td>\n",
       "      <td>...</td>\n",
       "      <td>...</td>\n",
       "      <td>...</td>\n",
       "      <td>...</td>\n",
       "      <td>...</td>\n",
       "      <td>...</td>\n",
       "      <td>...</td>\n",
       "    </tr>\n",
       "    <tr>\n",
       "      <th>8</th>\n",
       "      <td>COM</td>\n",
       "      <td>01010</td>\n",
       "      <td>84.0</td>\n",
       "      <td>01</td>\n",
       "      <td>01D</td>\n",
       "      <td>011</td>\n",
       "      <td>1</td>\n",
       "      <td>ANGLEFORT</td>\n",
       "      <td>Anglefort</td>\n",
       "      <td>Anglefort</td>\n",
       "      <td>0110</td>\n",
       "      <td>NaN</td>\n",
       "    </tr>\n",
       "    <tr>\n",
       "      <th>7</th>\n",
       "      <td>COM</td>\n",
       "      <td>01009</td>\n",
       "      <td>84.0</td>\n",
       "      <td>01</td>\n",
       "      <td>01D</td>\n",
       "      <td>011</td>\n",
       "      <td>1</td>\n",
       "      <td>ANDERT ET CONDON</td>\n",
       "      <td>Andert-et-Condon</td>\n",
       "      <td>Andert-et-Condon</td>\n",
       "      <td>0104</td>\n",
       "      <td>NaN</td>\n",
       "    </tr>\n",
       "    <tr>\n",
       "      <th>8</th>\n",
       "      <td>COM</td>\n",
       "      <td>01010</td>\n",
       "      <td>84.0</td>\n",
       "      <td>01</td>\n",
       "      <td>01D</td>\n",
       "      <td>011</td>\n",
       "      <td>1</td>\n",
       "      <td>ANGLEFORT</td>\n",
       "      <td>Anglefort</td>\n",
       "      <td>Anglefort</td>\n",
       "      <td>0110</td>\n",
       "      <td>NaN</td>\n",
       "    </tr>\n",
       "    <tr>\n",
       "      <th>6</th>\n",
       "      <td>COM</td>\n",
       "      <td>01008</td>\n",
       "      <td>84.0</td>\n",
       "      <td>01</td>\n",
       "      <td>01D</td>\n",
       "      <td>011</td>\n",
       "      <td>1</td>\n",
       "      <td>AMBUTRIX</td>\n",
       "      <td>Ambutrix</td>\n",
       "      <td>Ambutrix</td>\n",
       "      <td>0101</td>\n",
       "      <td>NaN</td>\n",
       "    </tr>\n",
       "    <tr>\n",
       "      <th>8</th>\n",
       "      <td>COM</td>\n",
       "      <td>01010</td>\n",
       "      <td>84.0</td>\n",
       "      <td>01</td>\n",
       "      <td>01D</td>\n",
       "      <td>011</td>\n",
       "      <td>1</td>\n",
       "      <td>ANGLEFORT</td>\n",
       "      <td>Anglefort</td>\n",
       "      <td>Anglefort</td>\n",
       "      <td>0110</td>\n",
       "      <td>NaN</td>\n",
       "    </tr>\n",
       "  </tbody>\n",
       "</table>\n",
       "<p>100 rows × 12 columns</p>\n",
       "</div>"
      ],
      "text/plain": [
       "   TYPECOM    COM   REG DEP CTCD  ARR  TNCC                    NCC  \\\n",
       "0      COM  01001  84.0  01  01D  012     5  ABERGEMENT CLEMENCIAT   \n",
       "9      COM  01011  84.0  01  01D  014     1               APREMONT   \n",
       "2      COM  01004  84.0  01  01D  011     1      AMBERIEU EN BUGEY   \n",
       "6      COM  01008  84.0  01  01D  011     1               AMBUTRIX   \n",
       "3      COM  01005  84.0  01  01D  012     1    AMBERIEUX EN DOMBES   \n",
       "..     ...    ...   ...  ..  ...  ...   ...                    ...   \n",
       "8      COM  01010  84.0  01  01D  011     1              ANGLEFORT   \n",
       "7      COM  01009  84.0  01  01D  011     1       ANDERT ET CONDON   \n",
       "8      COM  01010  84.0  01  01D  011     1              ANGLEFORT   \n",
       "6      COM  01008  84.0  01  01D  011     1               AMBUTRIX   \n",
       "8      COM  01010  84.0  01  01D  011     1              ANGLEFORT   \n",
       "\n",
       "                   NCCENR                  LIBELLE   CAN  COMPARENT  \n",
       "0   Abergement-Clémenciat  L'Abergement-Clémenciat  0108        NaN  \n",
       "9                Apremont                 Apremont  0114        NaN  \n",
       "2       Ambérieu-en-Bugey        Ambérieu-en-Bugey  0101        NaN  \n",
       "6                Ambutrix                 Ambutrix  0101        NaN  \n",
       "3     Ambérieux-en-Dombes      Ambérieux-en-Dombes  0122        NaN  \n",
       "..                    ...                      ...   ...        ...  \n",
       "8               Anglefort                Anglefort  0110        NaN  \n",
       "7        Andert-et-Condon         Andert-et-Condon  0104        NaN  \n",
       "8               Anglefort                Anglefort  0110        NaN  \n",
       "6                Ambutrix                 Ambutrix  0101        NaN  \n",
       "8               Anglefort                Anglefort  0110        NaN  \n",
       "\n",
       "[100 rows x 12 columns]"
      ]
     },
     "execution_count": 88,
     "metadata": {},
     "output_type": "execute_result"
    }
   ],
   "source": [
    "df_10_first.sample(n = 100, replace = True)"
   ]
  },
  {
   "cell_type": "code",
   "execution_count": 89,
   "metadata": {},
   "outputs": [],
   "source": [
    "# Possible de chainer les commandes\n",
    "_ = df.head(10).sample(n = 100, replace = True)"
   ]
  },
  {
   "cell_type": "markdown",
   "metadata": {},
   "source": [
    "5.  Faire 100 tirages à partir des 6 premières lignes avec une probabilité de 1/2 pour la première observation et une probabilité uniforme pour les autres."
   ]
  },
  {
   "cell_type": "code",
   "execution_count": 90,
   "metadata": {},
   "outputs": [
    {
     "name": "stdout",
     "output_type": "stream",
     "text": [
      "[0.5, 0.1, 0.1, 0.1, 0.1, 0.1]\n"
     ]
    }
   ],
   "source": [
    "_ = df.head(6).sample(n = 100, weights = [0.5, 0.1, 0.1, 0.1, 0.1, 0.1], replace = True)\n",
    "# Autre syntaxe : \n",
    "weights = [0.5] + [0.1] * 5\n",
    "print(weights)\n",
    "_ = df.head(6).sample(n = 100, weights = weights, replace = True)"
   ]
  },
  {
   "cell_type": "code",
   "execution_count": 91,
   "metadata": {},
   "outputs": [],
   "source": [
    "# Généralisation\n",
    "N_in = 6\n",
    "N_out = 100\n",
    "weights = [0.5] + [0.5 / (N_in - 1)] * (N_in - 1)\n",
    "_ = df.head(N_in).sample(n = N_out, weights = weights, replace = True)"
   ]
  },
  {
   "cell_type": "markdown",
   "metadata": {},
   "source": [
    "## Exercice 2"
   ]
  },
  {
   "cell_type": "markdown",
   "metadata": {},
   "source": [
    "1.  Créer un *dataframe* `emissions_copy` ne conservant que les colonnes `INSEE commune`, `Commune`, `Autres transports` et `Autres transports international`"
   ]
  },
  {
   "cell_type": "code",
   "execution_count": 92,
   "metadata": {},
   "outputs": [],
   "source": [
    "colonnes_a_conserver = [\n",
    "    'INSEE commune', \n",
    "    'Commune', \n",
    "    'Autres transports',\n",
    "    'Autres transports international'\n",
    "]\n",
    "url = \"https://koumoul.com/s/data-fair/api/v1/datasets/igt-pouvoir-de-rechauffement-global/convert\"\n",
    "emissions = pd.read_csv(url, usecols=colonnes_a_conserver)\n",
    "# Possibilité de charger le tableau puis ensuite de sélectionner les colonnes.\n",
    "# Pour les grands fichiers csv, privilégier la solution précédente\n",
    "\n",
    "# df = pd.read_csv(\"./cog_2023.csv\").loc[:,colonnes_a_conserver]"
   ]
  },
  {
   "cell_type": "markdown",
   "metadata": {},
   "source": [
    "2. Comme les noms de variables sont peu pratiques, les renommer de la manière suivante :\n",
    "\n",
    "-   `INSEE commune` $\\to$ `code_insee`\n",
    "-   `Autres transports` $\\to$ `transports`\n",
    "-   `Autres transports international` $\\to$ `transports_international`"
   ]
  },
  {
   "cell_type": "code",
   "execution_count": 93,
   "metadata": {},
   "outputs": [],
   "source": [
    "emissions = emissions.rename({\n",
    "    \"INSEE commune\"                   : \"code_insee\",\n",
    "    \"Autres transports\"               : \"transports\",\n",
    "    \"Autres transports international\" : \"transports_international\"\n",
    "}, axis = 1)"
   ]
  },
  {
   "cell_type": "markdown",
   "metadata": {},
   "source": [
    "vérifions le résultat"
   ]
  },
  {
   "cell_type": "code",
   "execution_count": 94,
   "metadata": {},
   "outputs": [
    {
     "data": {
      "text/html": [
       "<div>\n",
       "<style scoped>\n",
       "    .dataframe tbody tr th:only-of-type {\n",
       "        vertical-align: middle;\n",
       "    }\n",
       "\n",
       "    .dataframe tbody tr th {\n",
       "        vertical-align: top;\n",
       "    }\n",
       "\n",
       "    .dataframe thead th {\n",
       "        text-align: right;\n",
       "    }\n",
       "</style>\n",
       "<table border=\"1\" class=\"dataframe\">\n",
       "  <thead>\n",
       "    <tr style=\"text-align: right;\">\n",
       "      <th></th>\n",
       "      <th>code_insee</th>\n",
       "      <th>Commune</th>\n",
       "      <th>transports</th>\n",
       "      <th>transports_international</th>\n",
       "    </tr>\n",
       "  </thead>\n",
       "  <tbody>\n",
       "    <tr>\n",
       "      <th>0</th>\n",
       "      <td>01001</td>\n",
       "      <td>L'ABERGEMENT-CLEMENCIAT</td>\n",
       "      <td>NaN</td>\n",
       "      <td>NaN</td>\n",
       "    </tr>\n",
       "  </tbody>\n",
       "</table>\n",
       "</div>"
      ],
      "text/plain": [
       "  code_insee                  Commune  transports  transports_international\n",
       "0      01001  L'ABERGEMENT-CLEMENCIAT         NaN                       NaN"
      ]
     },
     "execution_count": 94,
     "metadata": {},
     "output_type": "execute_result"
    }
   ],
   "source": [
    "emissions.head(1)"
   ]
  },
  {
   "cell_type": "markdown",
   "metadata": {},
   "source": [
    "3.  On propose, pour simplifier, de remplacer les valeurs manquantes (`NA`) par la valeur 0. Utiliser la méthode [`fillna`](https://pandas.pydata.org/docs/reference/api/pandas.DataFrame.fillna.html) pour transformer les valeurs manquantes en 0."
   ]
  },
  {
   "cell_type": "markdown",
   "metadata": {},
   "source": [
    "Visualisons les valeurs NaN"
   ]
  },
  {
   "cell_type": "code",
   "execution_count": 95,
   "metadata": {},
   "outputs": [
    {
     "data": {
      "text/html": [
       "<div>\n",
       "<style scoped>\n",
       "    .dataframe tbody tr th:only-of-type {\n",
       "        vertical-align: middle;\n",
       "    }\n",
       "\n",
       "    .dataframe tbody tr th {\n",
       "        vertical-align: top;\n",
       "    }\n",
       "\n",
       "    .dataframe thead th {\n",
       "        text-align: right;\n",
       "    }\n",
       "</style>\n",
       "<table border=\"1\" class=\"dataframe\">\n",
       "  <thead>\n",
       "    <tr style=\"text-align: right;\">\n",
       "      <th></th>\n",
       "      <th>code_insee</th>\n",
       "      <th>Commune</th>\n",
       "      <th>transports</th>\n",
       "      <th>transports_international</th>\n",
       "    </tr>\n",
       "  </thead>\n",
       "  <tbody>\n",
       "    <tr>\n",
       "      <th>0</th>\n",
       "      <td>01001</td>\n",
       "      <td>L'ABERGEMENT-CLEMENCIAT</td>\n",
       "      <td>NaN</td>\n",
       "      <td>NaN</td>\n",
       "    </tr>\n",
       "    <tr>\n",
       "      <th>1</th>\n",
       "      <td>01002</td>\n",
       "      <td>L'ABERGEMENT-DE-VAREY</td>\n",
       "      <td>NaN</td>\n",
       "      <td>NaN</td>\n",
       "    </tr>\n",
       "    <tr>\n",
       "      <th>2</th>\n",
       "      <td>01004</td>\n",
       "      <td>AMBERIEU-EN-BUGEY</td>\n",
       "      <td>212.577908</td>\n",
       "      <td>NaN</td>\n",
       "    </tr>\n",
       "    <tr>\n",
       "      <th>3</th>\n",
       "      <td>01005</td>\n",
       "      <td>AMBERIEUX-EN-DOMBES</td>\n",
       "      <td>NaN</td>\n",
       "      <td>NaN</td>\n",
       "    </tr>\n",
       "    <tr>\n",
       "      <th>4</th>\n",
       "      <td>01006</td>\n",
       "      <td>AMBLEON</td>\n",
       "      <td>NaN</td>\n",
       "      <td>NaN</td>\n",
       "    </tr>\n",
       "  </tbody>\n",
       "</table>\n",
       "</div>"
      ],
      "text/plain": [
       "  code_insee                  Commune  transports  transports_international\n",
       "0      01001  L'ABERGEMENT-CLEMENCIAT         NaN                       NaN\n",
       "1      01002    L'ABERGEMENT-DE-VAREY         NaN                       NaN\n",
       "2      01004        AMBERIEU-EN-BUGEY  212.577908                       NaN\n",
       "3      01005      AMBERIEUX-EN-DOMBES         NaN                       NaN\n",
       "4      01006                  AMBLEON         NaN                       NaN"
      ]
     },
     "execution_count": 95,
     "metadata": {},
     "output_type": "execute_result"
    }
   ],
   "source": [
    "emissions.head()"
   ]
  },
  {
   "cell_type": "code",
   "execution_count": 96,
   "metadata": {},
   "outputs": [],
   "source": [
    "emissions = emissions.fillna(0)"
   ]
  },
  {
   "cell_type": "markdown",
   "metadata": {},
   "source": [
    "Vérifions le résultat"
   ]
  },
  {
   "cell_type": "code",
   "execution_count": 97,
   "metadata": {},
   "outputs": [
    {
     "data": {
      "text/html": [
       "<div>\n",
       "<style scoped>\n",
       "    .dataframe tbody tr th:only-of-type {\n",
       "        vertical-align: middle;\n",
       "    }\n",
       "\n",
       "    .dataframe tbody tr th {\n",
       "        vertical-align: top;\n",
       "    }\n",
       "\n",
       "    .dataframe thead th {\n",
       "        text-align: right;\n",
       "    }\n",
       "</style>\n",
       "<table border=\"1\" class=\"dataframe\">\n",
       "  <thead>\n",
       "    <tr style=\"text-align: right;\">\n",
       "      <th></th>\n",
       "      <th>code_insee</th>\n",
       "      <th>Commune</th>\n",
       "      <th>transports</th>\n",
       "      <th>transports_international</th>\n",
       "    </tr>\n",
       "  </thead>\n",
       "  <tbody>\n",
       "    <tr>\n",
       "      <th>0</th>\n",
       "      <td>01001</td>\n",
       "      <td>L'ABERGEMENT-CLEMENCIAT</td>\n",
       "      <td>0.000000</td>\n",
       "      <td>0.0</td>\n",
       "    </tr>\n",
       "    <tr>\n",
       "      <th>1</th>\n",
       "      <td>01002</td>\n",
       "      <td>L'ABERGEMENT-DE-VAREY</td>\n",
       "      <td>0.000000</td>\n",
       "      <td>0.0</td>\n",
       "    </tr>\n",
       "    <tr>\n",
       "      <th>2</th>\n",
       "      <td>01004</td>\n",
       "      <td>AMBERIEU-EN-BUGEY</td>\n",
       "      <td>212.577908</td>\n",
       "      <td>0.0</td>\n",
       "    </tr>\n",
       "    <tr>\n",
       "      <th>3</th>\n",
       "      <td>01005</td>\n",
       "      <td>AMBERIEUX-EN-DOMBES</td>\n",
       "      <td>0.000000</td>\n",
       "      <td>0.0</td>\n",
       "    </tr>\n",
       "    <tr>\n",
       "      <th>4</th>\n",
       "      <td>01006</td>\n",
       "      <td>AMBLEON</td>\n",
       "      <td>0.000000</td>\n",
       "      <td>0.0</td>\n",
       "    </tr>\n",
       "  </tbody>\n",
       "</table>\n",
       "</div>"
      ],
      "text/plain": [
       "  code_insee                  Commune  transports  transports_international\n",
       "0      01001  L'ABERGEMENT-CLEMENCIAT    0.000000                       0.0\n",
       "1      01002    L'ABERGEMENT-DE-VAREY    0.000000                       0.0\n",
       "2      01004        AMBERIEU-EN-BUGEY  212.577908                       0.0\n",
       "3      01005      AMBERIEUX-EN-DOMBES    0.000000                       0.0\n",
       "4      01006                  AMBLEON    0.000000                       0.0"
      ]
     },
     "execution_count": 97,
     "metadata": {},
     "output_type": "execute_result"
    }
   ],
   "source": [
    "emissions.head()"
   ]
  },
  {
   "cell_type": "markdown",
   "metadata": {},
   "source": [
    "4.  Créer les variables suivantes :\n",
    "\n",
    "-   `dep`: le département. Celui-ci peut être créé grâce aux deux premiers caractères de `code_insee` en \n",
    "-   `transports_total`: les émissions du secteur transports (somme des deux variables)"
   ]
  },
  {
   "cell_type": "code",
   "execution_count": 98,
   "metadata": {},
   "outputs": [],
   "source": [
    "# Colonne dep\n",
    "## Solution str \n",
    "emissions[\"dep\"] = emissions[\"code_insee\"].str[:2]\n",
    "\n",
    "## Solution apply\n",
    "def retrieve_dep(code_insee : str):\n",
    "    return code_insee[:2]\n",
    "emissions[\"dep\"] = emissions[\"code_insee\"].apply(retrieve_dep)\n",
    "\n",
    "# Colonne transport total\n",
    "## Solution simple\n",
    "emissions[\"transports_total\"] = emissions[\"transports\"].astype(float) + \\\n",
    "    emissions[\"transports_international\"].astype(float)\n",
    "# ici j'utilise le \"astype\" pour m'assurer que les données sont bien des floats \n",
    "# et ne pas introduire d'erreur\n",
    "\n",
    "## Solution complexe (a ne pas utiliser dans ce cas là)\n",
    "def compute_transport_total(row : dict) -> dict:\n",
    "    # ici il faut ajouter un attribut à la colonne et pas simplement renvoyer \n",
    "    # une valeur\n",
    "    row[\"transports_total\"] = float(row[\"transports\"]) +\\\n",
    "                              float(row[\"transports_international\"])\n",
    "    return row\n",
    "emissions = emissions.apply(compute_transport_total, axis = 1)"
   ]
  },
  {
   "cell_type": "code",
   "execution_count": 99,
   "metadata": {},
   "outputs": [
    {
     "data": {
      "text/html": [
       "<div>\n",
       "<style scoped>\n",
       "    .dataframe tbody tr th:only-of-type {\n",
       "        vertical-align: middle;\n",
       "    }\n",
       "\n",
       "    .dataframe tbody tr th {\n",
       "        vertical-align: top;\n",
       "    }\n",
       "\n",
       "    .dataframe thead th {\n",
       "        text-align: right;\n",
       "    }\n",
       "</style>\n",
       "<table border=\"1\" class=\"dataframe\">\n",
       "  <thead>\n",
       "    <tr style=\"text-align: right;\">\n",
       "      <th></th>\n",
       "      <th>code_insee</th>\n",
       "      <th>Commune</th>\n",
       "      <th>transports</th>\n",
       "      <th>transports_international</th>\n",
       "      <th>dep</th>\n",
       "      <th>transports_total</th>\n",
       "    </tr>\n",
       "  </thead>\n",
       "  <tbody>\n",
       "    <tr>\n",
       "      <th>0</th>\n",
       "      <td>01001</td>\n",
       "      <td>L'ABERGEMENT-CLEMENCIAT</td>\n",
       "      <td>0.000000</td>\n",
       "      <td>0.0</td>\n",
       "      <td>01</td>\n",
       "      <td>0.000000</td>\n",
       "    </tr>\n",
       "    <tr>\n",
       "      <th>1</th>\n",
       "      <td>01002</td>\n",
       "      <td>L'ABERGEMENT-DE-VAREY</td>\n",
       "      <td>0.000000</td>\n",
       "      <td>0.0</td>\n",
       "      <td>01</td>\n",
       "      <td>0.000000</td>\n",
       "    </tr>\n",
       "    <tr>\n",
       "      <th>2</th>\n",
       "      <td>01004</td>\n",
       "      <td>AMBERIEU-EN-BUGEY</td>\n",
       "      <td>212.577908</td>\n",
       "      <td>0.0</td>\n",
       "      <td>01</td>\n",
       "      <td>212.577908</td>\n",
       "    </tr>\n",
       "    <tr>\n",
       "      <th>3</th>\n",
       "      <td>01005</td>\n",
       "      <td>AMBERIEUX-EN-DOMBES</td>\n",
       "      <td>0.000000</td>\n",
       "      <td>0.0</td>\n",
       "      <td>01</td>\n",
       "      <td>0.000000</td>\n",
       "    </tr>\n",
       "    <tr>\n",
       "      <th>4</th>\n",
       "      <td>01006</td>\n",
       "      <td>AMBLEON</td>\n",
       "      <td>0.000000</td>\n",
       "      <td>0.0</td>\n",
       "      <td>01</td>\n",
       "      <td>0.000000</td>\n",
       "    </tr>\n",
       "  </tbody>\n",
       "</table>\n",
       "</div>"
      ],
      "text/plain": [
       "  code_insee                  Commune  transports  transports_international  \\\n",
       "0      01001  L'ABERGEMENT-CLEMENCIAT    0.000000                       0.0   \n",
       "1      01002    L'ABERGEMENT-DE-VAREY    0.000000                       0.0   \n",
       "2      01004        AMBERIEU-EN-BUGEY  212.577908                       0.0   \n",
       "3      01005      AMBERIEUX-EN-DOMBES    0.000000                       0.0   \n",
       "4      01006                  AMBLEON    0.000000                       0.0   \n",
       "\n",
       "  dep  transports_total  \n",
       "0  01          0.000000  \n",
       "1  01          0.000000  \n",
       "2  01        212.577908  \n",
       "3  01          0.000000  \n",
       "4  01          0.000000  "
      ]
     },
     "execution_count": 99,
     "metadata": {},
     "output_type": "execute_result"
    }
   ],
   "source": [
    "emissions.head()"
   ]
  },
  {
   "cell_type": "markdown",
   "metadata": {},
   "source": [
    "5. Ordonner les données du plus gros pollueur au plus petit puis ordonner les données du plus gros pollueur au plus petit par département (du 01 au 95)."
   ]
  },
  {
   "cell_type": "markdown",
   "metadata": {},
   "source": [
    "Vérifions d'abord à quoi ressemblent les données de `emissions[\"dep\"]`:"
   ]
  },
  {
   "cell_type": "code",
   "execution_count": 100,
   "metadata": {},
   "outputs": [
    {
     "data": {
      "text/plain": [
       "array(['01', '02', '03', '04', '05', '06', '07', '08', '09', '10', '11',\n",
       "       '12', '13', '14', '15', '16', '17', '18', '19', '21', '22', '23',\n",
       "       '24', '25', '26', '27', '28', '29', '2A', '2B', '30', '31', '32',\n",
       "       '33', '34', '35', '36', '37', '38', '39', '40', '41', '42', '43',\n",
       "       '44', '45', '46', '47', '48', '49', '50', '51', '52', '53', '54',\n",
       "       '55', '56', '57', '58', '59', '60', '61', '62', '63', '64', '65',\n",
       "       '66', '67', '68', '69', '70', '71', '72', '73', '74', '75', '76',\n",
       "       '77', '78', '79', '80', '81', '82', '83', '84', '85', '86', '87',\n",
       "       '88', '89', '90', '91', '92', '93', '94', '95'], dtype=object)"
      ]
     },
     "execution_count": 100,
     "metadata": {},
     "output_type": "execute_result"
    }
   ],
   "source": [
    "emissions[\"dep\"].unique()"
   ]
  },
  {
   "cell_type": "markdown",
   "metadata": {},
   "source": [
    "Toutes les valeurs sont des strings, vérifions que la fonction `sort_values` fonctionne comme on le souhaite, notamment avec la question des départements \"2A\" et \"2B\".\n",
    "\n",
    "On note que les départements 2a et 2b remplacent le département 20 (qui n'existe pas)."
   ]
  },
  {
   "cell_type": "code",
   "execution_count": 101,
   "metadata": {},
   "outputs": [
    {
     "data": {
      "text/plain": [
       "4     41\n",
       "3     2B\n",
       "7     88\n",
       "2     2A\n",
       "0     01\n",
       "8     19\n",
       "11    25\n",
       "9     21\n",
       "10    15\n",
       "6     99\n",
       "5     04\n",
       "1     2A\n",
       "dtype: object"
      ]
     },
     "execution_count": 101,
     "metadata": {},
     "output_type": "execute_result"
    }
   ],
   "source": [
    "s = pd.Series([\"01\", \"2A\", \"2A\", \"2B\", \"41\", \"04\",\"99\",\"88\", \"19\", \"21\", \"15\", \"25\"])\\\n",
    "    .sample(frac=1) # Shuffle\n",
    "s"
   ]
  },
  {
   "cell_type": "code",
   "execution_count": 102,
   "metadata": {},
   "outputs": [
    {
     "data": {
      "text/plain": [
       "0     01\n",
       "5     04\n",
       "10    15\n",
       "8     19\n",
       "9     21\n",
       "11    25\n",
       "2     2A\n",
       "1     2A\n",
       "3     2B\n",
       "4     41\n",
       "7     88\n",
       "6     99\n",
       "dtype: object"
      ]
     },
     "execution_count": 102,
     "metadata": {},
     "output_type": "execute_result"
    }
   ],
   "source": [
    "s.sort_values()"
   ]
  },
  {
   "cell_type": "markdown",
   "metadata": {},
   "source": [
    "On voit donc que la méthode classique de `sort_values` ne peut pas nous aider dans ce cas. Pour l'utiliser, il faut créer une autre colonne `\"dep-float\"` qui gère correctement les départements de corse."
   ]
  },
  {
   "cell_type": "code",
   "execution_count": 103,
   "metadata": {},
   "outputs": [],
   "source": [
    "def dep_float(dep: str):\n",
    "    try:\n",
    "        # Tente de retourner la valeur float(dep)\n",
    "        # Ce qui fonctionnera dans tous les cas sauf pour la corse\n",
    "        return float(dep)\n",
    "    except:\n",
    "        # Dans le cas où ça ne marche pas (ie les cas de corse), on distingue les \n",
    "        # cas\n",
    "        if dep == \"2A\": return 20\n",
    "        elif dep == \"2B\": return 20.5\n",
    "        else:\n",
    "            # Rien ne devrait tomber dans cette catégorie, mais dans le doute, \n",
    "            # on prépare un moyen de les repérer\n",
    "            print(dep)\n",
    "            return np.nan\n",
    "emissions[\"dep-float\"] = emissions[\"dep\"].apply(dep_float)"
   ]
  },
  {
   "cell_type": "markdown",
   "metadata": {},
   "source": [
    "Nous n'avons pas eu d'erreur, donc notre fonction a sans doute fonctionné.\n",
    "Vérifions :"
   ]
  },
  {
   "cell_type": "code",
   "execution_count": 104,
   "metadata": {},
   "outputs": [
    {
     "data": {
      "text/plain": [
       "array([ 1. ,  2. ,  3. ,  4. ,  5. ,  6. ,  7. ,  8. ,  9. , 10. , 11. ,\n",
       "       12. , 13. , 14. , 15. , 16. , 17. , 18. , 19. , 21. , 22. , 23. ,\n",
       "       24. , 25. , 26. , 27. , 28. , 29. , 20. , 20.5, 30. , 31. , 32. ,\n",
       "       33. , 34. , 35. , 36. , 37. , 38. , 39. , 40. , 41. , 42. , 43. ,\n",
       "       44. , 45. , 46. , 47. , 48. , 49. , 50. , 51. , 52. , 53. , 54. ,\n",
       "       55. , 56. , 57. , 58. , 59. , 60. , 61. , 62. , 63. , 64. , 65. ,\n",
       "       66. , 67. , 68. , 69. , 70. , 71. , 72. , 73. , 74. , 75. , 76. ,\n",
       "       77. , 78. , 79. , 80. , 81. , 82. , 83. , 84. , 85. , 86. , 87. ,\n",
       "       88. , 89. , 90. , 91. , 92. , 93. , 94. , 95. ])"
      ]
     },
     "execution_count": 104,
     "metadata": {},
     "output_type": "execute_result"
    }
   ],
   "source": [
    "emissions[\"dep-float\"].unique()"
   ]
  },
  {
   "cell_type": "markdown",
   "metadata": {},
   "source": [
    "on retrouve bien la valeur `20`, `20.5` ainsi que toutes les valeurs entre 1 et 95"
   ]
  },
  {
   "cell_type": "code",
   "execution_count": 105,
   "metadata": {},
   "outputs": [
    {
     "data": {
      "text/html": [
       "<div>\n",
       "<style scoped>\n",
       "    .dataframe tbody tr th:only-of-type {\n",
       "        vertical-align: middle;\n",
       "    }\n",
       "\n",
       "    .dataframe tbody tr th {\n",
       "        vertical-align: top;\n",
       "    }\n",
       "\n",
       "    .dataframe thead th {\n",
       "        text-align: right;\n",
       "    }\n",
       "</style>\n",
       "<table border=\"1\" class=\"dataframe\">\n",
       "  <thead>\n",
       "    <tr style=\"text-align: right;\">\n",
       "      <th></th>\n",
       "      <th>code_insee</th>\n",
       "      <th>Commune</th>\n",
       "      <th>transports</th>\n",
       "      <th>transports_international</th>\n",
       "      <th>dep</th>\n",
       "      <th>transports_total</th>\n",
       "      <th>dep-float</th>\n",
       "    </tr>\n",
       "  </thead>\n",
       "  <tbody>\n",
       "    <tr>\n",
       "      <th>160</th>\n",
       "      <td>01179</td>\n",
       "      <td>GRIEGES</td>\n",
       "      <td>617.281080</td>\n",
       "      <td>21.826353</td>\n",
       "      <td>01</td>\n",
       "      <td>639.107433</td>\n",
       "      <td>1.0</td>\n",
       "    </tr>\n",
       "    <tr>\n",
       "      <th>14</th>\n",
       "      <td>01016</td>\n",
       "      <td>ARBIGNY</td>\n",
       "      <td>382.957621</td>\n",
       "      <td>22.094924</td>\n",
       "      <td>01</td>\n",
       "      <td>405.052545</td>\n",
       "      <td>1.0</td>\n",
       "    </tr>\n",
       "    <tr>\n",
       "      <th>382</th>\n",
       "      <td>01427</td>\n",
       "      <td>TREVOUX</td>\n",
       "      <td>361.901404</td>\n",
       "      <td>20.880076</td>\n",
       "      <td>01</td>\n",
       "      <td>382.781480</td>\n",
       "      <td>1.0</td>\n",
       "    </tr>\n",
       "    <tr>\n",
       "      <th>307</th>\n",
       "      <td>01348</td>\n",
       "      <td>SAINT-DIDIER-SUR-CHALARONNE</td>\n",
       "      <td>363.104704</td>\n",
       "      <td>19.215886</td>\n",
       "      <td>01</td>\n",
       "      <td>382.320590</td>\n",
       "      <td>1.0</td>\n",
       "    </tr>\n",
       "    <tr>\n",
       "      <th>358</th>\n",
       "      <td>01402</td>\n",
       "      <td>SERMOYER</td>\n",
       "      <td>340.973268</td>\n",
       "      <td>19.672617</td>\n",
       "      <td>01</td>\n",
       "      <td>360.645885</td>\n",
       "      <td>1.0</td>\n",
       "    </tr>\n",
       "    <tr>\n",
       "      <th>234</th>\n",
       "      <td>01263</td>\n",
       "      <td>MONTMERLE-SUR-SAONE</td>\n",
       "      <td>315.060997</td>\n",
       "      <td>18.177596</td>\n",
       "      <td>01</td>\n",
       "      <td>333.238592</td>\n",
       "      <td>1.0</td>\n",
       "    </tr>\n",
       "    <tr>\n",
       "      <th>143</th>\n",
       "      <td>01157</td>\n",
       "      <td>FAREINS</td>\n",
       "      <td>254.995208</td>\n",
       "      <td>14.712071</td>\n",
       "      <td>01</td>\n",
       "      <td>269.707279</td>\n",
       "      <td>1.0</td>\n",
       "    </tr>\n",
       "    <tr>\n",
       "      <th>113</th>\n",
       "      <td>01123</td>\n",
       "      <td>CORMORANCHE-SUR-SAONE</td>\n",
       "      <td>253.233559</td>\n",
       "      <td>11.712017</td>\n",
       "      <td>01</td>\n",
       "      <td>264.945577</td>\n",
       "      <td>1.0</td>\n",
       "    </tr>\n",
       "    <tr>\n",
       "      <th>285</th>\n",
       "      <td>01322</td>\n",
       "      <td>REYRIEUX</td>\n",
       "      <td>223.437136</td>\n",
       "      <td>11.741258</td>\n",
       "      <td>01</td>\n",
       "      <td>235.178394</td>\n",
       "      <td>1.0</td>\n",
       "    </tr>\n",
       "    <tr>\n",
       "      <th>299</th>\n",
       "      <td>01339</td>\n",
       "      <td>SAINT-BERNARD</td>\n",
       "      <td>222.318063</td>\n",
       "      <td>12.826748</td>\n",
       "      <td>01</td>\n",
       "      <td>235.144811</td>\n",
       "      <td>1.0</td>\n",
       "    </tr>\n",
       "    <tr>\n",
       "      <th>361</th>\n",
       "      <td>01405</td>\n",
       "      <td>SERVAS</td>\n",
       "      <td>231.217534</td>\n",
       "      <td>0.000000</td>\n",
       "      <td>01</td>\n",
       "      <td>231.217534</td>\n",
       "      <td>1.0</td>\n",
       "    </tr>\n",
       "    <tr>\n",
       "      <th>48</th>\n",
       "      <td>01053</td>\n",
       "      <td>BOURG-EN-BRESSE</td>\n",
       "      <td>229.295638</td>\n",
       "      <td>0.000000</td>\n",
       "      <td>01</td>\n",
       "      <td>229.295638</td>\n",
       "      <td>1.0</td>\n",
       "    </tr>\n",
       "    <tr>\n",
       "      <th>256</th>\n",
       "      <td>01289</td>\n",
       "      <td>PERONNAS</td>\n",
       "      <td>218.019595</td>\n",
       "      <td>0.000000</td>\n",
       "      <td>01</td>\n",
       "      <td>218.019595</td>\n",
       "      <td>1.0</td>\n",
       "    </tr>\n",
       "    <tr>\n",
       "      <th>2</th>\n",
       "      <td>01004</td>\n",
       "      <td>AMBERIEU-EN-BUGEY</td>\n",
       "      <td>212.577908</td>\n",
       "      <td>0.000000</td>\n",
       "      <td>01</td>\n",
       "      <td>212.577908</td>\n",
       "      <td>1.0</td>\n",
       "    </tr>\n",
       "    <tr>\n",
       "      <th>223</th>\n",
       "      <td>01249</td>\n",
       "      <td>MIRIBEL</td>\n",
       "      <td>209.964220</td>\n",
       "      <td>0.000000</td>\n",
       "      <td>01</td>\n",
       "      <td>209.964220</td>\n",
       "      <td>1.0</td>\n",
       "    </tr>\n",
       "  </tbody>\n",
       "</table>\n",
       "</div>"
      ],
      "text/plain": [
       "    code_insee                      Commune  transports  \\\n",
       "160      01179                      GRIEGES  617.281080   \n",
       "14       01016                      ARBIGNY  382.957621   \n",
       "382      01427                      TREVOUX  361.901404   \n",
       "307      01348  SAINT-DIDIER-SUR-CHALARONNE  363.104704   \n",
       "358      01402                     SERMOYER  340.973268   \n",
       "234      01263          MONTMERLE-SUR-SAONE  315.060997   \n",
       "143      01157                      FAREINS  254.995208   \n",
       "113      01123        CORMORANCHE-SUR-SAONE  253.233559   \n",
       "285      01322                     REYRIEUX  223.437136   \n",
       "299      01339                SAINT-BERNARD  222.318063   \n",
       "361      01405                       SERVAS  231.217534   \n",
       "48       01053              BOURG-EN-BRESSE  229.295638   \n",
       "256      01289                     PERONNAS  218.019595   \n",
       "2        01004            AMBERIEU-EN-BUGEY  212.577908   \n",
       "223      01249                      MIRIBEL  209.964220   \n",
       "\n",
       "     transports_international dep  transports_total  dep-float  \n",
       "160                 21.826353  01        639.107433        1.0  \n",
       "14                  22.094924  01        405.052545        1.0  \n",
       "382                 20.880076  01        382.781480        1.0  \n",
       "307                 19.215886  01        382.320590        1.0  \n",
       "358                 19.672617  01        360.645885        1.0  \n",
       "234                 18.177596  01        333.238592        1.0  \n",
       "143                 14.712071  01        269.707279        1.0  \n",
       "113                 11.712017  01        264.945577        1.0  \n",
       "285                 11.741258  01        235.178394        1.0  \n",
       "299                 12.826748  01        235.144811        1.0  \n",
       "361                  0.000000  01        231.217534        1.0  \n",
       "48                   0.000000  01        229.295638        1.0  \n",
       "256                  0.000000  01        218.019595        1.0  \n",
       "2                    0.000000  01        212.577908        1.0  \n",
       "223                  0.000000  01        209.964220        1.0  "
      ]
     },
     "execution_count": 105,
     "metadata": {},
     "output_type": "execute_result"
    }
   ],
   "source": [
    "# On peut maintenant ordonner le tableau à l'aide de la fonction sort_values\n",
    "emissions = emissions.sort_values(by = [\"dep-float\",\"transports_total\"], \n",
    "                                  ascending = [True, False])\n",
    "emissions.head(15)"
   ]
  },
  {
   "cell_type": "markdown",
   "metadata": {},
   "source": [
    "6. Ne conserver que les communes appartenant aux départements 13 ou 31. Ordonner ces communes du plus gros pollueur au plus petit."
   ]
  },
  {
   "cell_type": "code",
   "execution_count": 106,
   "metadata": {},
   "outputs": [],
   "source": [
    "emissions_hg_bdr = emissions.\\\n",
    "    loc[emissions['dep'].isin([\"13\",\"31\"])].\\\n",
    "    sort_values(\"transports\", ascending = False)"
   ]
  },
  {
   "cell_type": "markdown",
   "metadata": {},
   "source": [
    "7.  Calculer les émissions totales par secteur. Calculer la part de chaque secteur dans les émissions totales. Transformer en tonnes les volumes avant d’afficher les résultats"
   ]
  },
  {
   "cell_type": "code",
   "execution_count": 107,
   "metadata": {},
   "outputs": [
    {
     "data": {
      "text/html": [
       "<div>\n",
       "<style scoped>\n",
       "    .dataframe tbody tr th:only-of-type {\n",
       "        vertical-align: middle;\n",
       "    }\n",
       "\n",
       "    .dataframe tbody tr th {\n",
       "        vertical-align: top;\n",
       "    }\n",
       "\n",
       "    .dataframe thead th {\n",
       "        text-align: right;\n",
       "    }\n",
       "</style>\n",
       "<table border=\"1\" class=\"dataframe\">\n",
       "  <thead>\n",
       "    <tr style=\"text-align: right;\">\n",
       "      <th></th>\n",
       "      <th>secteur</th>\n",
       "      <th>emissions</th>\n",
       "      <th>emissions (%)</th>\n",
       "    </tr>\n",
       "  </thead>\n",
       "  <tbody>\n",
       "    <tr>\n",
       "      <th>0</th>\n",
       "      <td>Agriculture</td>\n",
       "      <td>87909.693748</td>\n",
       "      <td>16.548342</td>\n",
       "    </tr>\n",
       "    <tr>\n",
       "      <th>1</th>\n",
       "      <td>Autres transports</td>\n",
       "      <td>6535.446083</td>\n",
       "      <td>1.230249</td>\n",
       "    </tr>\n",
       "    <tr>\n",
       "      <th>2</th>\n",
       "      <td>Autres transports international</td>\n",
       "      <td>22238.569280</td>\n",
       "      <td>4.186244</td>\n",
       "    </tr>\n",
       "    <tr>\n",
       "      <th>3</th>\n",
       "      <td>CO2 biomasse hors-total</td>\n",
       "      <td>63519.310716</td>\n",
       "      <td>11.957035</td>\n",
       "    </tr>\n",
       "    <tr>\n",
       "      <th>4</th>\n",
       "      <td>Déchets</td>\n",
       "      <td>14703.580140</td>\n",
       "      <td>2.767839</td>\n",
       "    </tr>\n",
       "    <tr>\n",
       "      <th>5</th>\n",
       "      <td>Energie</td>\n",
       "      <td>22852.033998</td>\n",
       "      <td>4.301725</td>\n",
       "    </tr>\n",
       "    <tr>\n",
       "      <th>6</th>\n",
       "      <td>Industrie hors-énergie</td>\n",
       "      <td>83573.677442</td>\n",
       "      <td>15.732120</td>\n",
       "    </tr>\n",
       "    <tr>\n",
       "      <th>7</th>\n",
       "      <td>Résidentiel</td>\n",
       "      <td>63841.398385</td>\n",
       "      <td>12.017666</td>\n",
       "    </tr>\n",
       "    <tr>\n",
       "      <th>8</th>\n",
       "      <td>Routier</td>\n",
       "      <td>126493.163531</td>\n",
       "      <td>23.811392</td>\n",
       "    </tr>\n",
       "    <tr>\n",
       "      <th>9</th>\n",
       "      <td>Tertiaire</td>\n",
       "      <td>39562.729439</td>\n",
       "      <td>7.447388</td>\n",
       "    </tr>\n",
       "  </tbody>\n",
       "</table>\n",
       "</div>"
      ],
      "text/plain": [
       "                           secteur      emissions  emissions (%)\n",
       "0                      Agriculture   87909.693748      16.548342\n",
       "1                Autres transports    6535.446083       1.230249\n",
       "2  Autres transports international   22238.569280       4.186244\n",
       "3          CO2 biomasse hors-total   63519.310716      11.957035\n",
       "4                          Déchets   14703.580140       2.767839\n",
       "5                          Energie   22852.033998       4.301725\n",
       "6           Industrie hors-énergie   83573.677442      15.732120\n",
       "7                      Résidentiel   63841.398385      12.017666\n",
       "8                          Routier  126493.163531      23.811392\n",
       "9                        Tertiaire   39562.729439       7.447388"
      ]
     },
     "execution_count": 107,
     "metadata": {},
     "output_type": "execute_result"
    }
   ],
   "source": [
    "# ATTENTION, pour cette question il faut re-télécharger le jeu de données\n",
    "df = pd.read_csv(url)\n",
    "\n",
    "emissions_totales = (\n",
    "  pd.DataFrame(\n",
    "    df.sum(numeric_only = True),\n",
    "    columns = [\"emissions\"]\n",
    "  )\n",
    "  .reset_index(names = \"secteur\")\n",
    ")\n",
    "\n",
    "emissions_totales['emissions (%)'] = (\n",
    "  100*emissions_totales['emissions']/emissions_totales['emissions'].sum()\n",
    ")\n",
    "emissions_totales[\"emissions\"] = emissions_totales[\"emissions\"].div(1000)\n",
    "(emissions_totales\n",
    "  .sort_values(\"emissions\", ascending = False)\n",
    "  .round()\n",
    "  .head(5)\n",
    ")\n",
    "\n",
    "emissions_totales"
   ]
  },
  {
   "cell_type": "markdown",
   "metadata": {},
   "source": [
    "8.  Calculer pour chaque commune les émissions totales après avoir imputé les valeurs manquantes à 0. Garder les 100 communes les plus émettrices. Calculer la part de chaque secteur dans cette émission. Comprendre les facteurs pouvant expliquer ce classement."
   ]
  },
  {
   "cell_type": "code",
   "execution_count": 108,
   "metadata": {},
   "outputs": [
    {
     "data": {
      "text/html": [
       "<div>\n",
       "<style scoped>\n",
       "    .dataframe tbody tr th:only-of-type {\n",
       "        vertical-align: middle;\n",
       "    }\n",
       "\n",
       "    .dataframe tbody tr th {\n",
       "        vertical-align: top;\n",
       "    }\n",
       "\n",
       "    .dataframe thead th {\n",
       "        text-align: right;\n",
       "    }\n",
       "</style>\n",
       "<table border=\"1\" class=\"dataframe\">\n",
       "  <thead>\n",
       "    <tr style=\"text-align: right;\">\n",
       "      <th></th>\n",
       "      <th>code_insee</th>\n",
       "      <th>Commune</th>\n",
       "      <th>transports</th>\n",
       "      <th>transports_international</th>\n",
       "      <th>dep</th>\n",
       "      <th>transports_total</th>\n",
       "      <th>dep-float</th>\n",
       "    </tr>\n",
       "  </thead>\n",
       "  <tbody>\n",
       "    <tr>\n",
       "      <th>30872</th>\n",
       "      <td>77046</td>\n",
       "      <td>BOULANCOURT</td>\n",
       "      <td>0.000000</td>\n",
       "      <td>0.0</td>\n",
       "      <td>77</td>\n",
       "      <td>0.000000</td>\n",
       "      <td>77.0</td>\n",
       "    </tr>\n",
       "    <tr>\n",
       "      <th>30857</th>\n",
       "      <td>77031</td>\n",
       "      <td>BERNAY-VILBERT</td>\n",
       "      <td>0.000000</td>\n",
       "      <td>0.0</td>\n",
       "      <td>77</td>\n",
       "      <td>0.000000</td>\n",
       "      <td>77.0</td>\n",
       "    </tr>\n",
       "    <tr>\n",
       "      <th>30876</th>\n",
       "      <td>77050</td>\n",
       "      <td>BRANSLES</td>\n",
       "      <td>0.000000</td>\n",
       "      <td>0.0</td>\n",
       "      <td>77</td>\n",
       "      <td>0.000000</td>\n",
       "      <td>77.0</td>\n",
       "    </tr>\n",
       "    <tr>\n",
       "      <th>30259</th>\n",
       "      <td>76163</td>\n",
       "      <td>CATENAY</td>\n",
       "      <td>0.000000</td>\n",
       "      <td>0.0</td>\n",
       "      <td>76</td>\n",
       "      <td>0.000000</td>\n",
       "      <td>76.0</td>\n",
       "    </tr>\n",
       "    <tr>\n",
       "      <th>35388</th>\n",
       "      <td>91332</td>\n",
       "      <td>LEUDEVILLE</td>\n",
       "      <td>0.000000</td>\n",
       "      <td>0.0</td>\n",
       "      <td>91</td>\n",
       "      <td>0.000000</td>\n",
       "      <td>91.0</td>\n",
       "    </tr>\n",
       "    <tr>\n",
       "      <th>...</th>\n",
       "      <td>...</td>\n",
       "      <td>...</td>\n",
       "      <td>...</td>\n",
       "      <td>...</td>\n",
       "      <td>...</td>\n",
       "      <td>...</td>\n",
       "      <td>...</td>\n",
       "    </tr>\n",
       "    <tr>\n",
       "      <th>26791</th>\n",
       "      <td>66174</td>\n",
       "      <td>SAINT-FELIU-D'AVALL</td>\n",
       "      <td>82.726135</td>\n",
       "      <td>0.0</td>\n",
       "      <td>66</td>\n",
       "      <td>82.726135</td>\n",
       "      <td>66.0</td>\n",
       "    </tr>\n",
       "    <tr>\n",
       "      <th>12805</th>\n",
       "      <td>33140</td>\n",
       "      <td>CREON</td>\n",
       "      <td>0.000000</td>\n",
       "      <td>0.0</td>\n",
       "      <td>33</td>\n",
       "      <td>0.000000</td>\n",
       "      <td>33.0</td>\n",
       "    </tr>\n",
       "    <tr>\n",
       "      <th>18844</th>\n",
       "      <td>51049</td>\n",
       "      <td>BERGERES-LES-VERTUS</td>\n",
       "      <td>125.843555</td>\n",
       "      <td>0.0</td>\n",
       "      <td>51</td>\n",
       "      <td>125.843555</td>\n",
       "      <td>51.0</td>\n",
       "    </tr>\n",
       "    <tr>\n",
       "      <th>30258</th>\n",
       "      <td>76162</td>\n",
       "      <td>LE CATELIER</td>\n",
       "      <td>0.000000</td>\n",
       "      <td>0.0</td>\n",
       "      <td>76</td>\n",
       "      <td>0.000000</td>\n",
       "      <td>76.0</td>\n",
       "    </tr>\n",
       "    <tr>\n",
       "      <th>13929</th>\n",
       "      <td>36028</td>\n",
       "      <td>LA BUXERETTE</td>\n",
       "      <td>0.000000</td>\n",
       "      <td>0.0</td>\n",
       "      <td>36</td>\n",
       "      <td>0.000000</td>\n",
       "      <td>36.0</td>\n",
       "    </tr>\n",
       "  </tbody>\n",
       "</table>\n",
       "<p>100 rows × 7 columns</p>\n",
       "</div>"
      ],
      "text/plain": [
       "      code_insee              Commune  transports  transports_international  \\\n",
       "30872      77046          BOULANCOURT    0.000000                       0.0   \n",
       "30857      77031       BERNAY-VILBERT    0.000000                       0.0   \n",
       "30876      77050             BRANSLES    0.000000                       0.0   \n",
       "30259      76163              CATENAY    0.000000                       0.0   \n",
       "35388      91332           LEUDEVILLE    0.000000                       0.0   \n",
       "...          ...                  ...         ...                       ...   \n",
       "26791      66174  SAINT-FELIU-D'AVALL   82.726135                       0.0   \n",
       "12805      33140                CREON    0.000000                       0.0   \n",
       "18844      51049  BERGERES-LES-VERTUS  125.843555                       0.0   \n",
       "30258      76162          LE CATELIER    0.000000                       0.0   \n",
       "13929      36028         LA BUXERETTE    0.000000                       0.0   \n",
       "\n",
       "      dep  transports_total  dep-float  \n",
       "30872  77          0.000000       77.0  \n",
       "30857  77          0.000000       77.0  \n",
       "30876  77          0.000000       77.0  \n",
       "30259  76          0.000000       76.0  \n",
       "35388  91          0.000000       91.0  \n",
       "...    ..               ...        ...  \n",
       "26791  66         82.726135       66.0  \n",
       "12805  33          0.000000       33.0  \n",
       "18844  51        125.843555       51.0  \n",
       "30258  76          0.000000       76.0  \n",
       "13929  36          0.000000       36.0  \n",
       "\n",
       "[100 rows x 7 columns]"
      ]
     },
     "execution_count": 108,
     "metadata": {},
     "output_type": "execute_result"
    }
   ],
   "source": [
    "emissions_totales = emissions.\\\n",
    "    fillna(0).\\\n",
    "    sum(numeric_only=True, axis = 1).\\\n",
    "    sort_values(ascending = False).\\\n",
    "    head(100)\n",
    "\n",
    "emissions_top = emissions.iloc[emissions_totales.index].fillna(0)\n",
    "\n",
    "emissions_top"
   ]
  }
 ],
 "metadata": {
  "kernelspec": {
   "display_name": "AT-MODEL",
   "language": "python",
   "name": "python3"
  },
  "language_info": {
   "codemirror_mode": {
    "name": "ipython",
    "version": 3
   },
   "file_extension": ".py",
   "mimetype": "text/x-python",
   "name": "python",
   "nbconvert_exporter": "python",
   "pygments_lexer": "ipython3",
   "version": "3.11.9"
  }
 },
 "nbformat": 4,
 "nbformat_minor": 2
}
